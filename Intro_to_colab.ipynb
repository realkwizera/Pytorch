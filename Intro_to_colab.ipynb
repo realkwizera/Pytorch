{
  "nbformat": 4,
  "nbformat_minor": 0,
  "metadata": {
    "colab": {
      "provenance": [],
      "authorship_tag": "ABX9TyN9ULwJ/FNPX8jfH+so2bpr",
      "include_colab_link": true
    },
    "kernelspec": {
      "name": "python3",
      "display_name": "Python 3"
    },
    "language_info": {
      "name": "python"
    }
  },
  "cells": [
    {
      "cell_type": "markdown",
      "metadata": {
        "id": "view-in-github",
        "colab_type": "text"
      },
      "source": [
        "<a href=\"https://colab.research.google.com/github/realkwizera/Pytorch/blob/main/Intro_to_colab.ipynb\" target=\"_parent\"><img src=\"https://colab.research.google.com/assets/colab-badge.svg\" alt=\"Open In Colab\"/></a>"
      ]
    },
    {
      "cell_type": "code",
      "execution_count": 1,
      "metadata": {
        "colab": {
          "base_uri": "https://localhost:8080/"
        },
        "id": "6t8VlIzazhsB",
        "outputId": "6cd83bf3-550e-49ab-cbf7-994b920c1c5c"
      },
      "outputs": [
        {
          "output_type": "execute_result",
          "data": {
            "text/plain": [
              "6"
            ]
          },
          "metadata": {},
          "execution_count": 1
        }
      ],
      "source": [
        "2 + 4"
      ]
    },
    {
      "cell_type": "code",
      "source": [],
      "metadata": {
        "id": "7kGsJW1rzp5J"
      },
      "execution_count": null,
      "outputs": []
    }
  ]
}